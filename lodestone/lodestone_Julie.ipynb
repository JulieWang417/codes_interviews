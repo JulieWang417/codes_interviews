{
 "cells": [
  {
   "cell_type": "code",
   "execution_count": 1,
   "metadata": {},
   "outputs": [],
   "source": [
    "# Import the libraries\n",
    "\n",
    "%matplotlib inline\n",
    "import matplotlib.pyplot as plt\n",
    "import seaborn as sns\n",
    "sns.set()\n",
    "import pandas as pd\n",
    "import json\n",
    "import csv"
   ]
  },
  {
   "cell_type": "markdown",
   "metadata": {},
   "source": [
    "# Question 1: Name each sheet/table so they are meaningful standalone.\n"
   ]
  },
  {
   "cell_type": "code",
   "execution_count": 94,
   "metadata": {},
   "outputs": [],
   "source": [
    "grill_type_info = pd.read_csv('/Users/julie/Desktop/lodestone/SheetA.csv')\n",
    "material_cookoff = pd.read_csv('/Users/julie/Desktop/lodestone/SheetB.csv')\n",
    "sample_survey = pd.read_csv('/Users/julie/Desktop/lodestone/SheetC.csv')"
   ]
  },
  {
   "cell_type": "code",
   "execution_count": 3,
   "metadata": {},
   "outputs": [
    {
     "data": {
      "text/html": [
       "<div>\n",
       "<style scoped>\n",
       "    .dataframe tbody tr th:only-of-type {\n",
       "        vertical-align: middle;\n",
       "    }\n",
       "\n",
       "    .dataframe tbody tr th {\n",
       "        vertical-align: top;\n",
       "    }\n",
       "\n",
       "    .dataframe thead th {\n",
       "        text-align: right;\n",
       "    }\n",
       "</style>\n",
       "<table border=\"1\" class=\"dataframe\">\n",
       "  <thead>\n",
       "    <tr style=\"text-align: right;\">\n",
       "      <th></th>\n",
       "      <th>grill_type</th>\n",
       "      <th>pre_heat_time</th>\n",
       "      <th>fuel_cost_per_meal</th>\n",
       "      <th>market_share</th>\n",
       "      <th>easiness_to_use</th>\n",
       "      <th>life_span_year</th>\n",
       "      <th>initial_investment</th>\n",
       "    </tr>\n",
       "  </thead>\n",
       "  <tbody>\n",
       "    <tr>\n",
       "      <th>0</th>\n",
       "      <td>Charcoal</td>\n",
       "      <td>1200</td>\n",
       "      <td>2.00</td>\n",
       "      <td>0.44</td>\n",
       "      <td>-1</td>\n",
       "      <td>3</td>\n",
       "      <td>91</td>\n",
       "    </tr>\n",
       "    <tr>\n",
       "      <th>1</th>\n",
       "      <td>Propane</td>\n",
       "      <td>480</td>\n",
       "      <td>1.55</td>\n",
       "      <td>0.64</td>\n",
       "      <td>2</td>\n",
       "      <td>3</td>\n",
       "      <td>139</td>\n",
       "    </tr>\n",
       "  </tbody>\n",
       "</table>\n",
       "</div>"
      ],
      "text/plain": [
       "  grill_type  pre_heat_time  fuel_cost_per_meal  market_share  \\\n",
       "0   Charcoal           1200                2.00          0.44   \n",
       "1    Propane            480                1.55          0.64   \n",
       "\n",
       "   easiness_to_use  life_span_year  initial_investment  \n",
       "0               -1               3                  91  \n",
       "1                2               3                 139  "
      ]
     },
     "execution_count": 3,
     "metadata": {},
     "output_type": "execute_result"
    }
   ],
   "source": [
    "grill_type_info.head()"
   ]
  },
  {
   "cell_type": "code",
   "execution_count": 4,
   "metadata": {},
   "outputs": [
    {
     "data": {
      "text/html": [
       "<div>\n",
       "<style scoped>\n",
       "    .dataframe tbody tr th:only-of-type {\n",
       "        vertical-align: middle;\n",
       "    }\n",
       "\n",
       "    .dataframe tbody tr th {\n",
       "        vertical-align: top;\n",
       "    }\n",
       "\n",
       "    .dataframe thead th {\n",
       "        text-align: right;\n",
       "    }\n",
       "</style>\n",
       "<table border=\"1\" class=\"dataframe\">\n",
       "  <thead>\n",
       "    <tr style=\"text-align: right;\">\n",
       "      <th></th>\n",
       "      <th>item_material</th>\n",
       "      <th>device_id</th>\n",
       "      <th>grill_type</th>\n",
       "      <th>user_satisfaction</th>\n",
       "      <th>fuel_cost</th>\n",
       "    </tr>\n",
       "  </thead>\n",
       "  <tbody>\n",
       "    <tr>\n",
       "      <th>19</th>\n",
       "      <td>Hotdog</td>\n",
       "      <td>8</td>\n",
       "      <td>Propane</td>\n",
       "      <td>1.2</td>\n",
       "      <td>153.650</td>\n",
       "    </tr>\n",
       "    <tr>\n",
       "      <th>20</th>\n",
       "      <td>Veggie Patty</td>\n",
       "      <td>2</td>\n",
       "      <td>Propane</td>\n",
       "      <td>2.0</td>\n",
       "      <td>151.200</td>\n",
       "    </tr>\n",
       "    <tr>\n",
       "      <th>21</th>\n",
       "      <td>Veggie Patty</td>\n",
       "      <td>4</td>\n",
       "      <td>Propane</td>\n",
       "      <td>1.2</td>\n",
       "      <td>146.550</td>\n",
       "    </tr>\n",
       "    <tr>\n",
       "      <th>22</th>\n",
       "      <td>Veggie Patty</td>\n",
       "      <td>6</td>\n",
       "      <td>Propane</td>\n",
       "      <td>0.2</td>\n",
       "      <td>158.775</td>\n",
       "    </tr>\n",
       "    <tr>\n",
       "      <th>23</th>\n",
       "      <td>Veggie Patty</td>\n",
       "      <td>8</td>\n",
       "      <td>Propane</td>\n",
       "      <td>2.8</td>\n",
       "      <td>148.050</td>\n",
       "    </tr>\n",
       "  </tbody>\n",
       "</table>\n",
       "</div>"
      ],
      "text/plain": [
       "   item_material  device_id grill_type  user_satisfaction  fuel_cost\n",
       "19        Hotdog          8    Propane                1.2    153.650\n",
       "20  Veggie Patty          2    Propane                2.0    151.200\n",
       "21  Veggie Patty          4    Propane                1.2    146.550\n",
       "22  Veggie Patty          6    Propane                0.2    158.775\n",
       "23  Veggie Patty          8    Propane                2.8    148.050"
      ]
     },
     "execution_count": 4,
     "metadata": {},
     "output_type": "execute_result"
    }
   ],
   "source": [
    "material_cookoff.tail()"
   ]
  },
  {
   "cell_type": "code",
   "execution_count": 5,
   "metadata": {},
   "outputs": [
    {
     "name": "stdout",
     "output_type": "stream",
     "text": [
      "<class 'pandas.core.frame.DataFrame'>\n",
      "RangeIndex: 24 entries, 0 to 23\n",
      "Data columns (total 5 columns):\n",
      " #   Column             Non-Null Count  Dtype  \n",
      "---  ------             --------------  -----  \n",
      " 0   item_material      24 non-null     object \n",
      " 1   device_id          24 non-null     int64  \n",
      " 2   grill_type         24 non-null     object \n",
      " 3   user_satisfaction  24 non-null     float64\n",
      " 4   fuel_cost          24 non-null     float64\n",
      "dtypes: float64(2), int64(1), object(2)\n",
      "memory usage: 1.1+ KB\n"
     ]
    }
   ],
   "source": [
    "material_cookoff.info()"
   ]
  },
  {
   "cell_type": "code",
   "execution_count": 6,
   "metadata": {},
   "outputs": [
    {
     "data": {
      "text/html": [
       "<div>\n",
       "<style scoped>\n",
       "    .dataframe tbody tr th:only-of-type {\n",
       "        vertical-align: middle;\n",
       "    }\n",
       "\n",
       "    .dataframe tbody tr th {\n",
       "        vertical-align: top;\n",
       "    }\n",
       "\n",
       "    .dataframe thead th {\n",
       "        text-align: right;\n",
       "    }\n",
       "</style>\n",
       "<table border=\"1\" class=\"dataframe\">\n",
       "  <thead>\n",
       "    <tr style=\"text-align: right;\">\n",
       "      <th></th>\n",
       "      <th>count</th>\n",
       "      <th>mean</th>\n",
       "      <th>std</th>\n",
       "      <th>min</th>\n",
       "      <th>25%</th>\n",
       "      <th>50%</th>\n",
       "      <th>75%</th>\n",
       "      <th>max</th>\n",
       "    </tr>\n",
       "  </thead>\n",
       "  <tbody>\n",
       "    <tr>\n",
       "      <th>device_id</th>\n",
       "      <td>24.0</td>\n",
       "      <td>4.500000</td>\n",
       "      <td>2.340568</td>\n",
       "      <td>1.000</td>\n",
       "      <td>2.75000</td>\n",
       "      <td>4.50</td>\n",
       "      <td>6.2500</td>\n",
       "      <td>8.000</td>\n",
       "    </tr>\n",
       "    <tr>\n",
       "      <th>user_satisfaction</th>\n",
       "      <td>24.0</td>\n",
       "      <td>0.133333</td>\n",
       "      <td>1.799919</td>\n",
       "      <td>-2.500</td>\n",
       "      <td>-1.30000</td>\n",
       "      <td>-0.05</td>\n",
       "      <td>1.8500</td>\n",
       "      <td>2.800</td>\n",
       "    </tr>\n",
       "    <tr>\n",
       "      <th>fuel_cost</th>\n",
       "      <td>24.0</td>\n",
       "      <td>269.499208</td>\n",
       "      <td>114.449928</td>\n",
       "      <td>140.875</td>\n",
       "      <td>156.13125</td>\n",
       "      <td>269.60</td>\n",
       "      <td>374.9055</td>\n",
       "      <td>402.399</td>\n",
       "    </tr>\n",
       "  </tbody>\n",
       "</table>\n",
       "</div>"
      ],
      "text/plain": [
       "                   count        mean         std      min        25%     50%  \\\n",
       "device_id           24.0    4.500000    2.340568    1.000    2.75000    4.50   \n",
       "user_satisfaction   24.0    0.133333    1.799919   -2.500   -1.30000   -0.05   \n",
       "fuel_cost           24.0  269.499208  114.449928  140.875  156.13125  269.60   \n",
       "\n",
       "                        75%      max  \n",
       "device_id            6.2500    8.000  \n",
       "user_satisfaction    1.8500    2.800  \n",
       "fuel_cost          374.9055  402.399  "
      ]
     },
     "execution_count": 6,
     "metadata": {},
     "output_type": "execute_result"
    }
   ],
   "source": [
    "material_cookoff.describe().T"
   ]
  },
  {
   "cell_type": "code",
   "execution_count": 7,
   "metadata": {},
   "outputs": [
    {
     "data": {
      "text/html": [
       "<div>\n",
       "<style scoped>\n",
       "    .dataframe tbody tr th:only-of-type {\n",
       "        vertical-align: middle;\n",
       "    }\n",
       "\n",
       "    .dataframe tbody tr th {\n",
       "        vertical-align: top;\n",
       "    }\n",
       "\n",
       "    .dataframe thead th {\n",
       "        text-align: right;\n",
       "    }\n",
       "</style>\n",
       "<table border=\"1\" class=\"dataframe\">\n",
       "  <thead>\n",
       "    <tr style=\"text-align: right;\">\n",
       "      <th></th>\n",
       "      <th>sample_item_index</th>\n",
       "      <th>item_material</th>\n",
       "      <th>is_frozen</th>\n",
       "      <th>grill_type</th>\n",
       "      <th>thumbs_up_score</th>\n",
       "      <th>guess_grill_correct</th>\n",
       "    </tr>\n",
       "  </thead>\n",
       "  <tbody>\n",
       "    <tr>\n",
       "      <th>715</th>\n",
       "      <td>3</td>\n",
       "      <td>Ground Beef Patty</td>\n",
       "      <td>False</td>\n",
       "      <td>Charcoal</td>\n",
       "      <td>0.5</td>\n",
       "      <td>True</td>\n",
       "    </tr>\n",
       "    <tr>\n",
       "      <th>716</th>\n",
       "      <td>4</td>\n",
       "      <td>Ground Beef Patty</td>\n",
       "      <td>True</td>\n",
       "      <td>Charcoal</td>\n",
       "      <td>0.4</td>\n",
       "      <td>True</td>\n",
       "    </tr>\n",
       "    <tr>\n",
       "      <th>717</th>\n",
       "      <td>5</td>\n",
       "      <td>Ground Beef Patty</td>\n",
       "      <td>False</td>\n",
       "      <td>Charcoal</td>\n",
       "      <td>0.2</td>\n",
       "      <td>True</td>\n",
       "    </tr>\n",
       "    <tr>\n",
       "      <th>718</th>\n",
       "      <td>6</td>\n",
       "      <td>Ground Beef Patty</td>\n",
       "      <td>True</td>\n",
       "      <td>Charcoal</td>\n",
       "      <td>0.1</td>\n",
       "      <td>True</td>\n",
       "    </tr>\n",
       "    <tr>\n",
       "      <th>719</th>\n",
       "      <td>7</td>\n",
       "      <td>Ground Beef Patty</td>\n",
       "      <td>False</td>\n",
       "      <td>Charcoal</td>\n",
       "      <td>0.3</td>\n",
       "      <td>True</td>\n",
       "    </tr>\n",
       "  </tbody>\n",
       "</table>\n",
       "</div>"
      ],
      "text/plain": [
       "     sample_item_index      item_material  is_frozen grill_type  \\\n",
       "715                  3  Ground Beef Patty      False   Charcoal   \n",
       "716                  4  Ground Beef Patty       True   Charcoal   \n",
       "717                  5  Ground Beef Patty      False   Charcoal   \n",
       "718                  6  Ground Beef Patty       True   Charcoal   \n",
       "719                  7  Ground Beef Patty      False   Charcoal   \n",
       "\n",
       "     thumbs_up_score  guess_grill_correct  \n",
       "715              0.5                 True  \n",
       "716              0.4                 True  \n",
       "717              0.2                 True  \n",
       "718              0.1                 True  \n",
       "719              0.3                 True  "
      ]
     },
     "execution_count": 7,
     "metadata": {},
     "output_type": "execute_result"
    }
   ],
   "source": [
    "sample_survey.tail()"
   ]
  },
  {
   "cell_type": "code",
   "execution_count": 8,
   "metadata": {},
   "outputs": [
    {
     "data": {
      "text/html": [
       "<div>\n",
       "<style scoped>\n",
       "    .dataframe tbody tr th:only-of-type {\n",
       "        vertical-align: middle;\n",
       "    }\n",
       "\n",
       "    .dataframe tbody tr th {\n",
       "        vertical-align: top;\n",
       "    }\n",
       "\n",
       "    .dataframe thead th {\n",
       "        text-align: right;\n",
       "    }\n",
       "</style>\n",
       "<table border=\"1\" class=\"dataframe\">\n",
       "  <thead>\n",
       "    <tr style=\"text-align: right;\">\n",
       "      <th></th>\n",
       "      <th>count</th>\n",
       "      <th>mean</th>\n",
       "      <th>std</th>\n",
       "      <th>min</th>\n",
       "      <th>25%</th>\n",
       "      <th>50%</th>\n",
       "      <th>75%</th>\n",
       "      <th>max</th>\n",
       "    </tr>\n",
       "  </thead>\n",
       "  <tbody>\n",
       "    <tr>\n",
       "      <th>sample_item_index</th>\n",
       "      <td>720.0</td>\n",
       "      <td>15.500000</td>\n",
       "      <td>8.661458</td>\n",
       "      <td>1.0</td>\n",
       "      <td>8.0</td>\n",
       "      <td>15.50</td>\n",
       "      <td>23.0</td>\n",
       "      <td>30.0</td>\n",
       "    </tr>\n",
       "    <tr>\n",
       "      <th>thumbs_up_score</th>\n",
       "      <td>720.0</td>\n",
       "      <td>2.034722</td>\n",
       "      <td>2.398427</td>\n",
       "      <td>0.0</td>\n",
       "      <td>0.2</td>\n",
       "      <td>0.55</td>\n",
       "      <td>5.1</td>\n",
       "      <td>6.3</td>\n",
       "    </tr>\n",
       "  </tbody>\n",
       "</table>\n",
       "</div>"
      ],
      "text/plain": [
       "                   count       mean       std  min  25%    50%   75%   max\n",
       "sample_item_index  720.0  15.500000  8.661458  1.0  8.0  15.50  23.0  30.0\n",
       "thumbs_up_score    720.0   2.034722  2.398427  0.0  0.2   0.55   5.1   6.3"
      ]
     },
     "execution_count": 8,
     "metadata": {},
     "output_type": "execute_result"
    }
   ],
   "source": [
    "sample_survey.describe().T\n"
   ]
  },
  {
   "cell_type": "code",
   "execution_count": 9,
   "metadata": {},
   "outputs": [
    {
     "name": "stdout",
     "output_type": "stream",
     "text": [
      "<class 'pandas.core.frame.DataFrame'>\n",
      "RangeIndex: 720 entries, 0 to 719\n",
      "Data columns (total 6 columns):\n",
      " #   Column               Non-Null Count  Dtype  \n",
      "---  ------               --------------  -----  \n",
      " 0   sample_item_index    720 non-null    int64  \n",
      " 1   item_material        720 non-null    object \n",
      " 2   is_frozen            720 non-null    bool   \n",
      " 3   grill_type           720 non-null    object \n",
      " 4   thumbs_up_score      720 non-null    float64\n",
      " 5   guess_grill_correct  720 non-null    bool   \n",
      "dtypes: bool(2), float64(1), int64(1), object(2)\n",
      "memory usage: 24.0+ KB\n"
     ]
    }
   ],
   "source": [
    "sample_survey.info()"
   ]
  },
  {
   "cell_type": "code",
   "execution_count": 10,
   "metadata": {},
   "outputs": [
    {
     "name": "stdout",
     "output_type": "stream",
     "text": [
      "Dataset grill_type_info has no NaN value\n"
     ]
    }
   ],
   "source": [
    "# Check for NaN values\n",
    "\n",
    "A=grill_type_info.isnull().values.any()\n",
    "\n",
    "if A==True:\n",
    "    print(\"Missing values present : \", grill_type_info.isnull().values.sum())\n",
    "    grill_type_info=grill_type_info.dropna()\n",
    "else:\n",
    "    print(\"Dataset grill_type_info has no NaN value\")"
   ]
  },
  {
   "cell_type": "code",
   "execution_count": 11,
   "metadata": {},
   "outputs": [
    {
     "name": "stdout",
     "output_type": "stream",
     "text": [
      "Dataset material_cookoff has no NaN value\n"
     ]
    }
   ],
   "source": [
    "# Check for NaN values\n",
    "\n",
    "B=material_cookoff.isnull().values.any()\n",
    "\n",
    "if B==True:\n",
    "    print(\"Missing values present : \", material_cookoff.isnull().values.sum())\n",
    "    SheetB=material_cookoff.dropna()\n",
    "else:\n",
    "    print(\"Dataset material_cookoff has no NaN value\")"
   ]
  },
  {
   "cell_type": "code",
   "execution_count": 12,
   "metadata": {},
   "outputs": [
    {
     "data": {
      "text/plain": [
       "24"
      ]
     },
     "execution_count": 12,
     "metadata": {},
     "output_type": "execute_result"
    }
   ],
   "source": [
    "len(material_cookoff)\n",
    "\n",
    "# material has a total of 24 observations"
   ]
  },
  {
   "cell_type": "code",
   "execution_count": 13,
   "metadata": {},
   "outputs": [
    {
     "name": "stdout",
     "output_type": "stream",
     "text": [
      "<class 'pandas.core.frame.DataFrame'>\n",
      "RangeIndex: 24 entries, 0 to 23\n",
      "Data columns (total 5 columns):\n",
      " #   Column             Non-Null Count  Dtype  \n",
      "---  ------             --------------  -----  \n",
      " 0   item_material      24 non-null     object \n",
      " 1   device_id          24 non-null     int64  \n",
      " 2   grill_type         24 non-null     object \n",
      " 3   user_satisfaction  24 non-null     float64\n",
      " 4   fuel_cost          24 non-null     float64\n",
      "dtypes: float64(2), int64(1), object(2)\n",
      "memory usage: 1.1+ KB\n"
     ]
    }
   ],
   "source": [
    "# material_cookoff details\n",
    "\n",
    "material_cookoff.info()"
   ]
  },
  {
   "cell_type": "code",
   "execution_count": 14,
   "metadata": {},
   "outputs": [
    {
     "name": "stdout",
     "output_type": "stream",
     "text": [
      "Dataset sample_survey has no NaN value\n"
     ]
    }
   ],
   "source": [
    "# Check for NaN values\n",
    "\n",
    "C=sample_survey.isnull().values.any()\n",
    "\n",
    "if C==True:\n",
    "    print(\"Missing values present : \", sample_survey.isnull().values.sum())\n",
    "    SheetC=sample_survey.dropna()\n",
    "else:\n",
    "    print(\"Dataset sample_survey has no NaN value\")"
   ]
  },
  {
   "cell_type": "code",
   "execution_count": 15,
   "metadata": {},
   "outputs": [
    {
     "data": {
      "text/plain": [
       "720"
      ]
     },
     "execution_count": 15,
     "metadata": {},
     "output_type": "execute_result"
    }
   ],
   "source": [
    "len(sample_survey)\n",
    "\n",
    "# sample_survey has a total of 720 observations\n"
   ]
  },
  {
   "cell_type": "code",
   "execution_count": 16,
   "metadata": {},
   "outputs": [
    {
     "name": "stdout",
     "output_type": "stream",
     "text": [
      "<class 'pandas.core.frame.DataFrame'>\n",
      "RangeIndex: 720 entries, 0 to 719\n",
      "Data columns (total 6 columns):\n",
      " #   Column               Non-Null Count  Dtype  \n",
      "---  ------               --------------  -----  \n",
      " 0   sample_item_index    720 non-null    int64  \n",
      " 1   item_material        720 non-null    object \n",
      " 2   is_frozen            720 non-null    bool   \n",
      " 3   grill_type           720 non-null    object \n",
      " 4   thumbs_up_score      720 non-null    float64\n",
      " 5   guess_grill_correct  720 non-null    bool   \n",
      "dtypes: bool(2), float64(1), int64(1), object(2)\n",
      "memory usage: 24.0+ KB\n"
     ]
    }
   ],
   "source": [
    "# sample_survey details\n",
    "\n",
    "sample_survey.info()"
   ]
  },
  {
   "cell_type": "code",
   "execution_count": 17,
   "metadata": {},
   "outputs": [
    {
     "data": {
      "text/plain": [
       "Hotdog               240\n",
       "Ground Beef Patty    240\n",
       "Veggie Patty         240\n",
       "Name: item_material, dtype: int64"
      ]
     },
     "execution_count": 17,
     "metadata": {},
     "output_type": "execute_result"
    }
   ],
   "source": [
    "# Count the amount of each material in sample_survey\n",
    "\n",
    "sample_survey.item_material.value_counts()"
   ]
  },
  {
   "cell_type": "markdown",
   "metadata": {},
   "source": [
    "# Question 2: Which grill type is more fuel efficient based on sheet A?\n"
   ]
  },
  {
   "cell_type": "markdown",
   "metadata": {},
   "source": [
    "### Answer: See the bar plot below, charcoal costs more fuel per meal than propane, so propane is more fuel efficient than charcoal. "
   ]
  },
  {
   "cell_type": "code",
   "execution_count": 18,
   "metadata": {},
   "outputs": [
    {
     "data": {
      "text/plain": [
       "Text(0.5, 1.0, 'Fuel Efficiency Comparison')"
      ]
     },
     "execution_count": 18,
     "metadata": {},
     "output_type": "execute_result"
    },
    {
     "data": {
      "image/png": "[encoded data removed]",
      "text/plain": [
       "<Figure size 432x288 with 1 Axes>"
      ]
     },
     "metadata": {},
     "output_type": "display_data"
    }
   ],
   "source": [
    "# Bar Plot (seaborn package)\n",
    "\n",
    "sns.barplot(x='grill_type', y='fuel_cost_per_meal', data=grill_type_info, palette=('Set1')).set_title('Fuel Efficiency Comparison')"
   ]
  },
  {
   "cell_type": "markdown",
   "metadata": {},
   "source": [
    "# Question 3: Which grill type has more market share?\n"
   ]
  },
  {
   "cell_type": "markdown",
   "metadata": {},
   "source": [
    "### Answer: From SheetA(grill_type_info) data, we could see propane has a higher market share than charcoal by 20%. "
   ]
  },
  {
   "cell_type": "code",
   "execution_count": 32,
   "metadata": {},
   "outputs": [
    {
     "data": {
      "text/plain": [
       "Text(0.5, 1.0, 'market_share_comparison')"
      ]
     },
     "execution_count": 32,
     "metadata": {},
     "output_type": "execute_result"
    },
    {
     "data": {
      "image/png": "[encoded data removed]",
      "text/plain": [
       "<Figure size 432x288 with 1 Axes>"
      ]
     },
     "metadata": {},
     "output_type": "display_data"
    }
   ],
   "source": [
    "# Bar Plot\n",
    "\n",
    "sns.barplot(x='grill_type', y='market_share', data=grill_type_info).set_title('market_share_comparison')"
   ]
  },
  {
   "cell_type": "markdown",
   "metadata": {},
   "source": [
    "# Question 4: Based on the cookoff data which grill type cost more fuel on a long run?"
   ]
  },
  {
   "cell_type": "markdown",
   "metadata": {},
   "source": [
    "### Answer: We use the SheetB（material_cookoff) data to get the total fuel cost used by each grill type. \n",
    "\n",
    "### Total fuel cost using Charcoal :   4570.681\n",
    "### Total fuel cost using Propane  :   1897.300\n",
    "\n",
    "### By taking the sum of fuel consumption per grill type, we can see that charcoal has much higher fuel consumption. Please see the chart below for a more visual answer."
   ]
  },
  {
   "cell_type": "code",
   "execution_count": 20,
   "metadata": {},
   "outputs": [
    {
     "data": {
      "text/plain": [
       "Charcoal    12\n",
       "Propane     12\n",
       "Name: grill_type, dtype: int64"
      ]
     },
     "execution_count": 20,
     "metadata": {},
     "output_type": "execute_result"
    }
   ],
   "source": [
    "material_cookoff['grill_type'].value_counts()"
   ]
  },
  {
   "cell_type": "code",
   "execution_count": 21,
   "metadata": {},
   "outputs": [
    {
     "data": {
      "text/plain": [
       "grill_type\n",
       "Charcoal    4570.681\n",
       "Propane     1897.300\n",
       "Name: fuel_cost, dtype: float64"
      ]
     },
     "execution_count": 21,
     "metadata": {},
     "output_type": "execute_result"
    }
   ],
   "source": [
    "# Use groupby to get sum\n",
    "\n",
    "material_cookoff.groupby('grill_type')['fuel_cost'].sum()"
   ]
  },
  {
   "cell_type": "code",
   "execution_count": 22,
   "metadata": {},
   "outputs": [],
   "source": [
    "df=pd.DataFrame(material_cookoff.groupby('grill_type')['fuel_cost'].sum())\n",
    "df=df.reset_index()"
   ]
  },
  {
   "cell_type": "code",
   "execution_count": 23,
   "metadata": {},
   "outputs": [
    {
     "data": {
      "text/html": [
       "<div>\n",
       "<style scoped>\n",
       "    .dataframe tbody tr th:only-of-type {\n",
       "        vertical-align: middle;\n",
       "    }\n",
       "\n",
       "    .dataframe tbody tr th {\n",
       "        vertical-align: top;\n",
       "    }\n",
       "\n",
       "    .dataframe thead th {\n",
       "        text-align: right;\n",
       "    }\n",
       "</style>\n",
       "<table border=\"1\" class=\"dataframe\">\n",
       "  <thead>\n",
       "    <tr style=\"text-align: right;\">\n",
       "      <th></th>\n",
       "      <th>grill_type</th>\n",
       "      <th>fuel_cost</th>\n",
       "    </tr>\n",
       "  </thead>\n",
       "  <tbody>\n",
       "    <tr>\n",
       "      <th>0</th>\n",
       "      <td>Charcoal</td>\n",
       "      <td>4570.681</td>\n",
       "    </tr>\n",
       "    <tr>\n",
       "      <th>1</th>\n",
       "      <td>Propane</td>\n",
       "      <td>1897.300</td>\n",
       "    </tr>\n",
       "  </tbody>\n",
       "</table>\n",
       "</div>"
      ],
      "text/plain": [
       "  grill_type  fuel_cost\n",
       "0   Charcoal   4570.681\n",
       "1    Propane   1897.300"
      ]
     },
     "execution_count": 23,
     "metadata": {},
     "output_type": "execute_result"
    }
   ],
   "source": [
    "df.head()"
   ]
  },
  {
   "cell_type": "code",
   "execution_count": 55,
   "metadata": {},
   "outputs": [
    {
     "data": {
      "text/plain": [
       "Text(0.5, 1.0, 'which grill type cost more fuel on a long run?')"
      ]
     },
     "execution_count": 55,
     "metadata": {},
     "output_type": "execute_result"
    },
    {
     "data": {
      "image/png": "[encoded data removed]",
      "text/plain": [
       "<Figure size 432x288 with 1 Axes>"
      ]
     },
     "metadata": {},
     "output_type": "display_data"
    }
   ],
   "source": [
    "sns.barplot(x='grill_type', y='fuel_cost', data=df,palette=\"rocket\").set_title('which grill type cost more fuel on a long run?',fontsize=20)"
   ]
  },
  {
   "cell_type": "code",
   "execution_count": 38,
   "metadata": {},
   "outputs": [
    {
     "data": {
      "text/plain": [
       "grill_type  item_material    \n",
       "Charcoal    Ground Beef Patty    1592.229\n",
       "            Hotdog               1476.880\n",
       "            Veggie Patty         1501.572\n",
       "Propane     Ground Beef Patty     686.775\n",
       "            Hotdog                605.950\n",
       "            Veggie Patty          604.575\n",
       "Name: fuel_cost, dtype: float64"
      ]
     },
     "execution_count": 38,
     "metadata": {},
     "output_type": "execute_result"
    }
   ],
   "source": [
    "material_cookoff.groupby(['grill_type','item_material'])['fuel_cost'].sum()"
   ]
  },
  {
   "cell_type": "code",
   "execution_count": 39,
   "metadata": {},
   "outputs": [],
   "source": [
    "df1 = material_cookoff.groupby(['grill_type','item_material'])['fuel_cost'].sum()"
   ]
  },
  {
   "cell_type": "code",
   "execution_count": 40,
   "metadata": {},
   "outputs": [],
   "source": [
    "df1=df1.reset_index()"
   ]
  },
  {
   "cell_type": "code",
   "execution_count": 41,
   "metadata": {},
   "outputs": [
    {
     "data": {
      "text/html": [
       "<div>\n",
       "<style scoped>\n",
       "    .dataframe tbody tr th:only-of-type {\n",
       "        vertical-align: middle;\n",
       "    }\n",
       "\n",
       "    .dataframe tbody tr th {\n",
       "        vertical-align: top;\n",
       "    }\n",
       "\n",
       "    .dataframe thead th {\n",
       "        text-align: right;\n",
       "    }\n",
       "</style>\n",
       "<table border=\"1\" class=\"dataframe\">\n",
       "  <thead>\n",
       "    <tr style=\"text-align: right;\">\n",
       "      <th></th>\n",
       "      <th>grill_type</th>\n",
       "      <th>item_material</th>\n",
       "      <th>fuel_cost</th>\n",
       "    </tr>\n",
       "  </thead>\n",
       "  <tbody>\n",
       "    <tr>\n",
       "      <th>0</th>\n",
       "      <td>Charcoal</td>\n",
       "      <td>Ground Beef Patty</td>\n",
       "      <td>1592.229</td>\n",
       "    </tr>\n",
       "    <tr>\n",
       "      <th>1</th>\n",
       "      <td>Charcoal</td>\n",
       "      <td>Hotdog</td>\n",
       "      <td>1476.880</td>\n",
       "    </tr>\n",
       "    <tr>\n",
       "      <th>2</th>\n",
       "      <td>Charcoal</td>\n",
       "      <td>Veggie Patty</td>\n",
       "      <td>1501.572</td>\n",
       "    </tr>\n",
       "    <tr>\n",
       "      <th>3</th>\n",
       "      <td>Propane</td>\n",
       "      <td>Ground Beef Patty</td>\n",
       "      <td>686.775</td>\n",
       "    </tr>\n",
       "    <tr>\n",
       "      <th>4</th>\n",
       "      <td>Propane</td>\n",
       "      <td>Hotdog</td>\n",
       "      <td>605.950</td>\n",
       "    </tr>\n",
       "  </tbody>\n",
       "</table>\n",
       "</div>"
      ],
      "text/plain": [
       "  grill_type      item_material  fuel_cost\n",
       "0   Charcoal  Ground Beef Patty   1592.229\n",
       "1   Charcoal             Hotdog   1476.880\n",
       "2   Charcoal       Veggie Patty   1501.572\n",
       "3    Propane  Ground Beef Patty    686.775\n",
       "4    Propane             Hotdog    605.950"
      ]
     },
     "execution_count": 41,
     "metadata": {},
     "output_type": "execute_result"
    }
   ],
   "source": [
    "df1.head()"
   ]
  },
  {
   "cell_type": "code",
   "execution_count": 58,
   "metadata": {},
   "outputs": [
    {
     "data": {
      "text/plain": [
       "Text(0.5, 1.0, 'which grill type cost more fuel on a long run by each material?')"
      ]
     },
     "execution_count": 58,
     "metadata": {},
     "output_type": "execute_result"
    },
    {
     "data": {
      "image/png": "[encoded data removed]",
      "text/plain": [
       "<Figure size 432x288 with 1 Axes>"
      ]
     },
     "metadata": {},
     "output_type": "display_data"
    }
   ],
   "source": [
    "sns.barplot(x='grill_type', y='fuel_cost', hue='item_material',data=df1,palette=\"tab20\").set_title('which grill type cost more fuel on a long run by each material?',fontsize=20)"
   ]
  },
  {
   "cell_type": "markdown",
   "metadata": {},
   "source": [
    "# Question 5: Considering that the average American grill owner buys a new grill every three years, which grill type would cost more based on the fuel cost and initial investment?"
   ]
  },
  {
   "cell_type": "markdown",
   "metadata": {},
   "source": [
    "### Answer: As we can see from the graph below, it is clear that charcoal has a lower initial investment, but As the number of meals increases，the cost of burning charcoal is higher than the cost of using propane.\n",
    "\n",
    "### Specifically, at the beginning, the cost of charcoal grilling is lower than the cost of gas grilling, but as the number of grilling times increases, the total cost of the two grilling tools is equal when the number of grilling times is nearly 100, and then as the number of grilling times increases, the cost of charcoal grilling far exceeds the cost of gas grilling."
   ]
  },
  {
   "cell_type": "code",
   "execution_count": 78,
   "metadata": {},
   "outputs": [],
   "source": [
    "# Considering 3 meals per day i.e. for 3 years 3*3*365 total meals in 3 years.\n",
    "\n",
    "import numpy as np\n",
    "total_meals = np.arange(0,3*3*365)\n",
    "\n",
    "# Total cost = fuel cost*total_meals + initial investment\n",
    "\n",
    "# for Charcoal:\n",
    "char=2*total_meals+91\n",
    "\n",
    "# for Propane\n",
    "prop=1.55*total_meals+139"
   ]
  },
  {
   "cell_type": "code",
   "execution_count": 95,
   "metadata": {},
   "outputs": [
    {
     "data": {
      "text/html": [
       "<div>\n",
       "<style scoped>\n",
       "    .dataframe tbody tr th:only-of-type {\n",
       "        vertical-align: middle;\n",
       "    }\n",
       "\n",
       "    .dataframe tbody tr th {\n",
       "        vertical-align: top;\n",
       "    }\n",
       "\n",
       "    .dataframe thead th {\n",
       "        text-align: right;\n",
       "    }\n",
       "</style>\n",
       "<table border=\"1\" class=\"dataframe\">\n",
       "  <thead>\n",
       "    <tr style=\"text-align: right;\">\n",
       "      <th></th>\n",
       "      <th>grill_type</th>\n",
       "      <th>pre_heat_time</th>\n",
       "      <th>fuel_cost_per_meal</th>\n",
       "      <th>market_share</th>\n",
       "      <th>easiness_to_use</th>\n",
       "      <th>life_span_year</th>\n",
       "      <th>initial_investment</th>\n",
       "    </tr>\n",
       "  </thead>\n",
       "  <tbody>\n",
       "    <tr>\n",
       "      <th>0</th>\n",
       "      <td>Charcoal</td>\n",
       "      <td>1200</td>\n",
       "      <td>2.00</td>\n",
       "      <td>0.44</td>\n",
       "      <td>-1</td>\n",
       "      <td>3</td>\n",
       "      <td>91</td>\n",
       "    </tr>\n",
       "    <tr>\n",
       "      <th>1</th>\n",
       "      <td>Propane</td>\n",
       "      <td>480</td>\n",
       "      <td>1.55</td>\n",
       "      <td>0.64</td>\n",
       "      <td>2</td>\n",
       "      <td>3</td>\n",
       "      <td>139</td>\n",
       "    </tr>\n",
       "  </tbody>\n",
       "</table>\n",
       "</div>"
      ],
      "text/plain": [
       "  grill_type  pre_heat_time  fuel_cost_per_meal  market_share  \\\n",
       "0   Charcoal           1200                2.00          0.44   \n",
       "1    Propane            480                1.55          0.64   \n",
       "\n",
       "   easiness_to_use  life_span_year  initial_investment  \n",
       "0               -1               3                  91  \n",
       "1                2               3                 139  "
      ]
     },
     "execution_count": 95,
     "metadata": {},
     "output_type": "execute_result"
    }
   ],
   "source": [
    "grill_type_info"
   ]
  },
  {
   "cell_type": "code",
   "execution_count": 193,
   "metadata": {},
   "outputs": [
    {
     "data": {
      "image/png": "[encoded data removed]",
      "text/plain": [
       "<Figure size 720x360 with 1 Axes>"
      ]
     },
     "metadata": {},
     "output_type": "display_data"
    }
   ],
   "source": [
    "plt.figure(figsize=(10,5)) \n",
    "plt.plot(total_meals,char,color = 'red',linewidth = 2)\n",
    "plt.plot(total_meals,prop,color = 'blue',linewidth = 2)\n",
    "plt.step(total_meals, char, label='Charcoal')\n",
    "plt.step(total_meals, prop, label='Propane')\n",
    "plt.xlabel('Total meals in the 3 years',fontsize=18)\n",
    "plt.ylabel('Total fuel cost',fontsize=18)\n",
    "plt.title('The total fuel cost based on number of meals in the three years',fontsize=25)\n",
    "plt.xlim(0,365*3)\n",
    "plt.ylim(0,3000)\n",
    "plt.legend()\n",
    "plt.show()"
   ]
  },
  {
   "cell_type": "code",
   "execution_count": 192,
   "metadata": {},
   "outputs": [
    {
     "data": {
      "image/png": "[encoded data removed]",
      "text/plain": [
       "<Figure size 720x360 with 1 Axes>"
      ]
     },
     "metadata": {},
     "output_type": "display_data"
    }
   ],
   "source": [
    "plt.figure(figsize=(10,5)) \n",
    "plt.plot(total_meals,char,color = 'red',linewidth = 2)\n",
    "plt.plot(total_meals,prop,color = 'blue',linewidth = 2)\n",
    "plt.step(total_meals, char, label='Charcoal')\n",
    "plt.step(total_meals, prop, label='Propane')\n",
    "plt.xlabel('Total meals in the 3 years',fontsize=18)\n",
    "plt.ylabel('Total fuel cost',fontsize=18)\n",
    "plt.title('The total fuel cost based on number of meals in the three years',fontsize=25)\n",
    "plt.xlim(0,365)\n",
    "plt.ylim(0,1000)\n",
    "plt.legend()\n",
    "plt.show()"
   ]
  },
  {
   "cell_type": "markdown",
   "metadata": {},
   "source": [
    "# Question 6: Which grill type is easier to use based on the user satisfaction score? Based on data, which grill is preferred? What factors might play a role?"
   ]
  },
  {
   "cell_type": "markdown",
   "metadata": {},
   "source": [
    "### Answer: Based on the table, average user satisfaction is higher in the case of propane rather than charcoal, this can be attributed to lower fuel consumption and easiness to use. \n",
    "\n",
    "### The average user satisfaction of each grill type:\n",
    "### Charcoal:        -1.483333\n",
    "\n",
    "### Propane:          1.750000\n",
    "\n"
   ]
  },
  {
   "cell_type": "code",
   "execution_count": 116,
   "metadata": {},
   "outputs": [
    {
     "data": {
      "text/plain": [
       "<AxesSubplot:xlabel='user_satisfaction'>"
      ]
     },
     "execution_count": 116,
     "metadata": {},
     "output_type": "execute_result"
    },
    {
     "data": {
      "image/png": "[encoded data removed]",
      "text/plain": [
       "<Figure size 432x288 with 1 Axes>"
      ]
     },
     "metadata": {},
     "output_type": "display_data"
    }
   ],
   "source": [
    "# Box Plot - Checking outliers for SheetB\n",
    "\n",
    "sns.boxplot(data = material_cookoff, x='user_satisfaction')\n"
   ]
  },
  {
   "cell_type": "markdown",
   "metadata": {},
   "source": [
    "### The numerical variable \"Satisfaction Level\"  looks fine.We don't need to do anything to remove the outliers."
   ]
  },
  {
   "cell_type": "code",
   "execution_count": 105,
   "metadata": {},
   "outputs": [
    {
     "data": {
      "text/plain": [
       "grill_type\n",
       "Charcoal   -1.483333\n",
       "Propane     1.750000\n",
       "Name: user_satisfaction, dtype: float64"
      ]
     },
     "execution_count": 105,
     "metadata": {},
     "output_type": "execute_result"
    }
   ],
   "source": [
    "# To get the answer, we need to use the SheetB(material_cookoff) data and take the average of Satisfaction Level by Grill Type\n",
    "\n",
    "material_cookoff.groupby('grill_type')['user_satisfaction'].mean()"
   ]
  },
  {
   "cell_type": "code",
   "execution_count": 171,
   "metadata": {},
   "outputs": [
    {
     "data": {
      "text/plain": [
       "Text(0.5, 1.0, 'Satisfaction Level by Grill Type')"
      ]
     },
     "execution_count": 171,
     "metadata": {},
     "output_type": "execute_result"
    },
    {
     "data": {
      "image/png": "[encoded data removed]",
      "text/plain": [
       "<Figure size 443.85x360 with 1 Axes>"
      ]
     },
     "metadata": {},
     "output_type": "display_data"
    }
   ],
   "source": [
    "# Density Plot  - Satisfaction Level by Grill Type\n",
    "\n",
    "sns.displot(material_cookoff, x='user_satisfaction', hue='grill_type', kind='kde',fill=True, palette=('Set1'))\n",
    "plt.title('Satisfaction Level by Grill Type',size=20)"
   ]
  },
  {
   "cell_type": "markdown",
   "metadata": {},
   "source": [
    "### We can see propane has a relatively higher customer satisfaction level than charcoal among those 3 materials. We can also get the idea of most customers'  satisfaction ratings by the shape of the graph."
   ]
  },
  {
   "cell_type": "code",
   "execution_count": 173,
   "metadata": {},
   "outputs": [
    {
     "data": {
      "text/plain": [
       "Text(0.5, 1.0, 'Satisfaction Level by Grill Type for each material')"
      ]
     },
     "execution_count": 173,
     "metadata": {},
     "output_type": "execute_result"
    },
    {
     "data": {
      "image/png": "[encoded data removed]",
      "text/plain": [
       "<Figure size 490.475x360 with 1 Axes>"
      ]
     },
     "metadata": {},
     "output_type": "display_data"
    }
   ],
   "source": [
    "# Density Plot - Satisfaction Level by Material\n",
    "\n",
    "sns.displot(material_cookoff, x='user_satisfaction', hue='item_material', kind='kde', palette=('Set1'))\n",
    "plt.title('Satisfaction Level by Grill Type for each material',size=20)"
   ]
  },
  {
   "cell_type": "code",
   "execution_count": 174,
   "metadata": {},
   "outputs": [
    {
     "data": {
      "text/plain": [
       "Text(0.5, 1.0, 'Satisfaction Level by Fuel Cost based on Grill Type')"
      ]
     },
     "execution_count": 174,
     "metadata": {},
     "output_type": "execute_result"
    },
    {
     "data": {
      "image/png": "[encoded data removed]",
      "text/plain": [
       "<Figure size 443.85x360 with 1 Axes>"
      ]
     },
     "metadata": {},
     "output_type": "display_data"
    }
   ],
   "source": [
    "# Bivariate Distribution and Joint Marginal Distribution - Satisfaction Level by Fuel Cost based on Grill Type\n",
    "\n",
    "sns.displot(material_cookoff, x='user_satisfaction', y='fuel_cost', hue='grill_type', kind='kde', palette=('Set1'))\n",
    "\n",
    "plt.title('Satisfaction Level by Fuel Cost based on Grill Type',size=20)"
   ]
  },
  {
   "cell_type": "markdown",
   "metadata": {},
   "source": [
    "### This plot can easily interpret that most people have great satisfaction levels when using propane plus it is low fuel cost, quite clear. "
   ]
  },
  {
   "cell_type": "markdown",
   "metadata": {},
   "source": [
    "# Question 7: Please generate an aggregated dataset to present your conclusions."
   ]
  },
  {
   "cell_type": "markdown",
   "metadata": {},
   "source": [
    "### Answer: Please see the below information."
   ]
  },
  {
   "cell_type": "code",
   "execution_count": 107,
   "metadata": {},
   "outputs": [
    {
     "data": {
      "text/plain": [
       "grill_type\n",
       "Charcoal    4570.681\n",
       "Propane     1897.300\n",
       "Name: fuel_cost, dtype: float64"
      ]
     },
     "execution_count": 107,
     "metadata": {},
     "output_type": "execute_result"
    }
   ],
   "source": [
    "# This is the previous answer to the question regarding which grill type cost more fuel on a long run\n",
    "\n",
    "material_cookoff.groupby('grill_type')['fuel_cost'].sum()"
   ]
  },
  {
   "cell_type": "code",
   "execution_count": 108,
   "metadata": {},
   "outputs": [
    {
     "data": {
      "text/html": [
       "<div>\n",
       "<style scoped>\n",
       "    .dataframe tbody tr th:only-of-type {\n",
       "        vertical-align: middle;\n",
       "    }\n",
       "\n",
       "    .dataframe tbody tr th {\n",
       "        vertical-align: top;\n",
       "    }\n",
       "\n",
       "    .dataframe thead tr th {\n",
       "        text-align: left;\n",
       "    }\n",
       "\n",
       "    .dataframe thead tr:last-of-type th {\n",
       "        text-align: right;\n",
       "    }\n",
       "</style>\n",
       "<table border=\"1\" class=\"dataframe\">\n",
       "  <thead>\n",
       "    <tr>\n",
       "      <th></th>\n",
       "      <th colspan=\"5\" halign=\"left\">fuel_cost</th>\n",
       "    </tr>\n",
       "    <tr>\n",
       "      <th></th>\n",
       "      <th>sum</th>\n",
       "      <th>mean</th>\n",
       "      <th>min</th>\n",
       "      <th>max</th>\n",
       "      <th>std</th>\n",
       "    </tr>\n",
       "    <tr>\n",
       "      <th>grill_type</th>\n",
       "      <th></th>\n",
       "      <th></th>\n",
       "      <th></th>\n",
       "      <th></th>\n",
       "      <th></th>\n",
       "    </tr>\n",
       "  </thead>\n",
       "  <tbody>\n",
       "    <tr>\n",
       "      <th>Charcoal</th>\n",
       "      <td>4570.681</td>\n",
       "      <td>380.890083</td>\n",
       "      <td>364.000</td>\n",
       "      <td>402.399</td>\n",
       "      <td>13.851468</td>\n",
       "    </tr>\n",
       "    <tr>\n",
       "      <th>Propane</th>\n",
       "      <td>1897.300</td>\n",
       "      <td>158.108333</td>\n",
       "      <td>140.875</td>\n",
       "      <td>175.200</td>\n",
       "      <td>11.165436</td>\n",
       "    </tr>\n",
       "  </tbody>\n",
       "</table>\n",
       "</div>"
      ],
      "text/plain": [
       "           fuel_cost                                         \n",
       "                 sum        mean      min      max        std\n",
       "grill_type                                                   \n",
       "Charcoal    4570.681  380.890083  364.000  402.399  13.851468\n",
       "Propane     1897.300  158.108333  140.875  175.200  11.165436"
      ]
     },
     "execution_count": 108,
     "metadata": {},
     "output_type": "execute_result"
    }
   ],
   "source": [
    "# This is the aggregated dataset, I add the mean, min, max, and std along with the sum to further prove the point \n",
    "\n",
    "material_cookoff.groupby('grill_type').agg({'fuel_cost': ['sum', 'mean', 'min', 'max', 'std']})"
   ]
  },
  {
   "cell_type": "code",
   "execution_count": 109,
   "metadata": {},
   "outputs": [
    {
     "data": {
      "text/html": [
       "<div>\n",
       "<style scoped>\n",
       "    .dataframe tbody tr th:only-of-type {\n",
       "        vertical-align: middle;\n",
       "    }\n",
       "\n",
       "    .dataframe tbody tr th {\n",
       "        vertical-align: top;\n",
       "    }\n",
       "\n",
       "    .dataframe thead tr th {\n",
       "        text-align: left;\n",
       "    }\n",
       "\n",
       "    .dataframe thead tr:last-of-type th {\n",
       "        text-align: right;\n",
       "    }\n",
       "</style>\n",
       "<table border=\"1\" class=\"dataframe\">\n",
       "  <thead>\n",
       "    <tr>\n",
       "      <th></th>\n",
       "      <th colspan=\"4\" halign=\"left\">user_satisfaction</th>\n",
       "    </tr>\n",
       "    <tr>\n",
       "      <th></th>\n",
       "      <th>mean</th>\n",
       "      <th>min</th>\n",
       "      <th>max</th>\n",
       "      <th>std</th>\n",
       "    </tr>\n",
       "    <tr>\n",
       "      <th>grill_type</th>\n",
       "      <th></th>\n",
       "      <th></th>\n",
       "      <th></th>\n",
       "      <th></th>\n",
       "    </tr>\n",
       "  </thead>\n",
       "  <tbody>\n",
       "    <tr>\n",
       "      <th>Charcoal</th>\n",
       "      <td>-1.483333</td>\n",
       "      <td>-2.5</td>\n",
       "      <td>-0.3</td>\n",
       "      <td>0.739574</td>\n",
       "    </tr>\n",
       "    <tr>\n",
       "      <th>Propane</th>\n",
       "      <td>1.750000</td>\n",
       "      <td>0.2</td>\n",
       "      <td>2.8</td>\n",
       "      <td>0.724255</td>\n",
       "    </tr>\n",
       "  </tbody>\n",
       "</table>\n",
       "</div>"
      ],
      "text/plain": [
       "           user_satisfaction                    \n",
       "                        mean  min  max       std\n",
       "grill_type                                      \n",
       "Charcoal           -1.483333 -2.5 -0.3  0.739574\n",
       "Propane             1.750000  0.2  2.8  0.724255"
      ]
     },
     "execution_count": 109,
     "metadata": {},
     "output_type": "execute_result"
    }
   ],
   "source": [
    "# This is the aggregated dataset, I add the min, max, and std along with the mean to further prove the point \n",
    "\n",
    "material_cookoff.groupby('grill_type').agg({'user_satisfaction': ['mean', 'min', 'max', 'std']})"
   ]
  },
  {
   "cell_type": "markdown",
   "metadata": {},
   "source": [
    "# Question 8: Are your recommendations to the manufacturer different to recommendations you’d make to the user?\n"
   ]
  },
  {
   "cell_type": "markdown",
   "metadata": {},
   "source": [
    "### Answer: For the manufacturer, I recommend producing more propane-based grill as they have a higher initial cost but also higher customer ratings in all aspects. For the customer, if the usage is low, a charcoal-based grill could also be a good choice due to its low initial investment and very good taste when grilling hot dogs over charcoal.\n",
    "\n",
    "### Let's explore different aspects by different forms of plots to get a clear picture of this case. "
   ]
  },
  {
   "cell_type": "code",
   "execution_count": 117,
   "metadata": {},
   "outputs": [
    {
     "data": {
      "text/plain": [
       "<AxesSubplot:xlabel='thumbs_up_score'>"
      ]
     },
     "execution_count": 117,
     "metadata": {},
     "output_type": "execute_result"
    },
    {
     "data": {
      "image/png": "[encoded data removed]",
      "text/plain": [
       "<Figure size 432x288 with 1 Axes>"
      ]
     },
     "metadata": {},
     "output_type": "display_data"
    }
   ],
   "source": [
    "# Box Plot - Checking outliers for SheetC\n",
    "\n",
    "sns.boxplot(data = sample_survey, x='thumbs_up_score')\n"
   ]
  },
  {
   "cell_type": "markdown",
   "metadata": {},
   "source": [
    "### The numerical variable \"Thumbs Up Score\" looks fine. We don't need to do anything to remove the outliers."
   ]
  },
  {
   "cell_type": "code",
   "execution_count": 118,
   "metadata": {},
   "outputs": [
    {
     "data": {
      "text/html": [
       "<div>\n",
       "<style scoped>\n",
       "    .dataframe tbody tr th:only-of-type {\n",
       "        vertical-align: middle;\n",
       "    }\n",
       "\n",
       "    .dataframe tbody tr th {\n",
       "        vertical-align: top;\n",
       "    }\n",
       "\n",
       "    .dataframe thead tr th {\n",
       "        text-align: left;\n",
       "    }\n",
       "\n",
       "    .dataframe thead tr:last-of-type th {\n",
       "        text-align: right;\n",
       "    }\n",
       "</style>\n",
       "<table border=\"1\" class=\"dataframe\">\n",
       "  <thead>\n",
       "    <tr>\n",
       "      <th></th>\n",
       "      <th colspan=\"5\" halign=\"left\">thumbs_up_score</th>\n",
       "    </tr>\n",
       "    <tr>\n",
       "      <th></th>\n",
       "      <th>sum</th>\n",
       "      <th>mean</th>\n",
       "      <th>min</th>\n",
       "      <th>max</th>\n",
       "      <th>std</th>\n",
       "    </tr>\n",
       "    <tr>\n",
       "      <th>grill_type</th>\n",
       "      <th></th>\n",
       "      <th></th>\n",
       "      <th></th>\n",
       "      <th></th>\n",
       "      <th></th>\n",
       "    </tr>\n",
       "  </thead>\n",
       "  <tbody>\n",
       "    <tr>\n",
       "      <th>Charcoal</th>\n",
       "      <td>664.1</td>\n",
       "      <td>1.844722</td>\n",
       "      <td>0.0</td>\n",
       "      <td>5.6</td>\n",
       "      <td>2.377043</td>\n",
       "    </tr>\n",
       "    <tr>\n",
       "      <th>Propane</th>\n",
       "      <td>800.9</td>\n",
       "      <td>2.224722</td>\n",
       "      <td>0.0</td>\n",
       "      <td>6.3</td>\n",
       "      <td>2.407943</td>\n",
       "    </tr>\n",
       "  </tbody>\n",
       "</table>\n",
       "</div>"
      ],
      "text/plain": [
       "           thumbs_up_score                              \n",
       "                       sum      mean  min  max       std\n",
       "grill_type                                              \n",
       "Charcoal             664.1  1.844722  0.0  5.6  2.377043\n",
       "Propane              800.9  2.224722  0.0  6.3  2.407943"
      ]
     },
     "execution_count": 118,
     "metadata": {},
     "output_type": "execute_result"
    }
   ],
   "source": [
    "# Let's make an aggregated dataset from SheetC to explore the relationship between Thumbs Up Score and Grill Type.\n",
    "\n",
    "sample_survey.groupby('grill_type').agg({'thumbs_up_score': ['sum', 'mean', 'min', 'max', 'std']})"
   ]
  },
  {
   "cell_type": "code",
   "execution_count": 113,
   "metadata": {},
   "outputs": [
    {
     "data": {
      "text/html": [
       "<div>\n",
       "<style scoped>\n",
       "    .dataframe tbody tr th:only-of-type {\n",
       "        vertical-align: middle;\n",
       "    }\n",
       "\n",
       "    .dataframe tbody tr th {\n",
       "        vertical-align: top;\n",
       "    }\n",
       "\n",
       "    .dataframe thead tr th {\n",
       "        text-align: left;\n",
       "    }\n",
       "\n",
       "    .dataframe thead tr:last-of-type th {\n",
       "        text-align: right;\n",
       "    }\n",
       "</style>\n",
       "<table border=\"1\" class=\"dataframe\">\n",
       "  <thead>\n",
       "    <tr>\n",
       "      <th></th>\n",
       "      <th></th>\n",
       "      <th colspan=\"5\" halign=\"left\">thumbs_up_score</th>\n",
       "    </tr>\n",
       "    <tr>\n",
       "      <th></th>\n",
       "      <th></th>\n",
       "      <th>sum</th>\n",
       "      <th>mean</th>\n",
       "      <th>min</th>\n",
       "      <th>max</th>\n",
       "      <th>std</th>\n",
       "    </tr>\n",
       "    <tr>\n",
       "      <th>grill_type</th>\n",
       "      <th>item_material</th>\n",
       "      <th></th>\n",
       "      <th></th>\n",
       "      <th></th>\n",
       "      <th></th>\n",
       "      <th></th>\n",
       "    </tr>\n",
       "  </thead>\n",
       "  <tbody>\n",
       "    <tr>\n",
       "      <th rowspan=\"3\" valign=\"top\">Charcoal</th>\n",
       "      <th>Ground Beef Patty</th>\n",
       "      <td>21.5</td>\n",
       "      <td>0.179167</td>\n",
       "      <td>0.0</td>\n",
       "      <td>0.5</td>\n",
       "      <td>0.149450</td>\n",
       "    </tr>\n",
       "    <tr>\n",
       "      <th>Hotdog</th>\n",
       "      <td>623.3</td>\n",
       "      <td>5.194167</td>\n",
       "      <td>5.0</td>\n",
       "      <td>5.6</td>\n",
       "      <td>0.156267</td>\n",
       "    </tr>\n",
       "    <tr>\n",
       "      <th>Veggie Patty</th>\n",
       "      <td>19.3</td>\n",
       "      <td>0.160833</td>\n",
       "      <td>0.0</td>\n",
       "      <td>0.6</td>\n",
       "      <td>0.171643</td>\n",
       "    </tr>\n",
       "    <tr>\n",
       "      <th rowspan=\"3\" valign=\"top\">Propane</th>\n",
       "      <th>Ground Beef Patty</th>\n",
       "      <td>670.4</td>\n",
       "      <td>5.586667</td>\n",
       "      <td>5.0</td>\n",
       "      <td>6.3</td>\n",
       "      <td>0.384562</td>\n",
       "    </tr>\n",
       "    <tr>\n",
       "      <th>Hotdog</th>\n",
       "      <td>65.9</td>\n",
       "      <td>0.549167</td>\n",
       "      <td>0.0</td>\n",
       "      <td>1.2</td>\n",
       "      <td>0.343241</td>\n",
       "    </tr>\n",
       "    <tr>\n",
       "      <th>Veggie Patty</th>\n",
       "      <td>64.6</td>\n",
       "      <td>0.538333</td>\n",
       "      <td>0.0</td>\n",
       "      <td>1.3</td>\n",
       "      <td>0.360248</td>\n",
       "    </tr>\n",
       "  </tbody>\n",
       "</table>\n",
       "</div>"
      ],
      "text/plain": [
       "                             thumbs_up_score                              \n",
       "                                         sum      mean  min  max       std\n",
       "grill_type item_material                                                  \n",
       "Charcoal   Ground Beef Patty            21.5  0.179167  0.0  0.5  0.149450\n",
       "           Hotdog                      623.3  5.194167  5.0  5.6  0.156267\n",
       "           Veggie Patty                 19.3  0.160833  0.0  0.6  0.171643\n",
       "Propane    Ground Beef Patty           670.4  5.586667  5.0  6.3  0.384562\n",
       "           Hotdog                       65.9  0.549167  0.0  1.2  0.343241\n",
       "           Veggie Patty                 64.6  0.538333  0.0  1.3  0.360248"
      ]
     },
     "execution_count": 113,
     "metadata": {},
     "output_type": "execute_result"
    }
   ],
   "source": [
    "sample_survey.groupby(['grill_type','item_material']).agg({'thumbs_up_score': ['sum', 'mean', 'min', 'max', 'std']})"
   ]
  },
  {
   "cell_type": "code",
   "execution_count": 186,
   "metadata": {},
   "outputs": [
    {
     "data": {
      "text/html": [
       "<div>\n",
       "<style scoped>\n",
       "    .dataframe tbody tr th:only-of-type {\n",
       "        vertical-align: middle;\n",
       "    }\n",
       "\n",
       "    .dataframe tbody tr th {\n",
       "        vertical-align: top;\n",
       "    }\n",
       "\n",
       "    .dataframe thead th {\n",
       "        text-align: right;\n",
       "    }\n",
       "</style>\n",
       "<table border=\"1\" class=\"dataframe\">\n",
       "  <thead>\n",
       "    <tr style=\"text-align: right;\">\n",
       "      <th></th>\n",
       "      <th>grill_type</th>\n",
       "      <th>item_material</th>\n",
       "      <th>thumbs_up_score</th>\n",
       "    </tr>\n",
       "  </thead>\n",
       "  <tbody>\n",
       "    <tr>\n",
       "      <th>0</th>\n",
       "      <td>Charcoal</td>\n",
       "      <td>Ground Beef Patty</td>\n",
       "      <td>0.179167</td>\n",
       "    </tr>\n",
       "    <tr>\n",
       "      <th>1</th>\n",
       "      <td>Charcoal</td>\n",
       "      <td>Hotdog</td>\n",
       "      <td>5.194167</td>\n",
       "    </tr>\n",
       "    <tr>\n",
       "      <th>2</th>\n",
       "      <td>Charcoal</td>\n",
       "      <td>Veggie Patty</td>\n",
       "      <td>0.160833</td>\n",
       "    </tr>\n",
       "    <tr>\n",
       "      <th>3</th>\n",
       "      <td>Propane</td>\n",
       "      <td>Ground Beef Patty</td>\n",
       "      <td>5.586667</td>\n",
       "    </tr>\n",
       "    <tr>\n",
       "      <th>4</th>\n",
       "      <td>Propane</td>\n",
       "      <td>Hotdog</td>\n",
       "      <td>0.549167</td>\n",
       "    </tr>\n",
       "    <tr>\n",
       "      <th>5</th>\n",
       "      <td>Propane</td>\n",
       "      <td>Veggie Patty</td>\n",
       "      <td>0.538333</td>\n",
       "    </tr>\n",
       "  </tbody>\n",
       "</table>\n",
       "</div>"
      ],
      "text/plain": [
       "  grill_type      item_material  thumbs_up_score\n",
       "0   Charcoal  Ground Beef Patty         0.179167\n",
       "1   Charcoal             Hotdog         5.194167\n",
       "2   Charcoal       Veggie Patty         0.160833\n",
       "3    Propane  Ground Beef Patty         5.586667\n",
       "4    Propane             Hotdog         0.549167\n",
       "5    Propane       Veggie Patty         0.538333"
      ]
     },
     "execution_count": 186,
     "metadata": {},
     "output_type": "execute_result"
    }
   ],
   "source": [
    "df3 = sample_survey.groupby(['grill_type','item_material'])['thumbs_up_score'].mean()\n",
    "df3=df3.reset_index()\n",
    "df3"
   ]
  },
  {
   "cell_type": "code",
   "execution_count": 187,
   "metadata": {},
   "outputs": [
    {
     "data": {
      "text/plain": [
       "Text(0.5, 1.0, 'Material by Thumbs Up Score based on Frozen')"
      ]
     },
     "execution_count": 187,
     "metadata": {},
     "output_type": "execute_result"
    },
    {
     "data": {
      "image/png": "[encoded data removed]",
      "text/plain": [
       "<Figure size 426.35x360 with 1 Axes>"
      ]
     },
     "metadata": {},
     "output_type": "display_data"
    }
   ],
   "source": [
    "# Box Plot - Material by Thumbs Up Score based on Frozen\n",
    "\n",
    "sns.catplot(data = sample_survey, x='item_material', y='thumbs_up_score', hue='is_frozen', kind=\"box\", palette=('magma'))\n",
    "plt.title('Material by Thumbs Up Score based on Frozen',size=20)"
   ]
  },
  {
   "cell_type": "markdown",
   "metadata": {},
   "source": [
    "### It seems hotdog and ground beef patty are very popular to most people with high thumbs up scores no matter they are frozen or not."
   ]
  },
  {
   "cell_type": "code",
   "execution_count": 188,
   "metadata": {},
   "outputs": [
    {
     "data": {
      "text/plain": [
       "Text(0.5, 1.0, 'Grill type by Thumbs Up Score based on Frozen(figue 8)')"
      ]
     },
     "execution_count": 188,
     "metadata": {},
     "output_type": "execute_result"
    },
    {
     "data": {
      "image/png": "[encoded data removed]",
      "text/plain": [
       "<Figure size 426.35x360 with 1 Axes>"
      ]
     },
     "metadata": {},
     "output_type": "display_data"
    }
   ],
   "source": [
    "sns.catplot(data = sample_survey, x='grill_type', y='thumbs_up_score', hue='is_frozen', kind=\"box\", palette=('cool'))\n",
    "plt.title('Grill type by Thumbs Up Score based on Frozen(figue 8)',size=20)"
   ]
  },
  {
   "cell_type": "markdown",
   "metadata": {},
   "source": [
    "### Whether the food is frozen or not has no effect on the choice of grill type。"
   ]
  },
  {
   "cell_type": "code",
   "execution_count": 189,
   "metadata": {},
   "outputs": [
    {
     "data": {
      "text/plain": [
       "Text(0.5, 1.0, 'Users prefer charcoal grill or propane grill based on different ingredients(figue 9)')"
      ]
     },
     "execution_count": 189,
     "metadata": {},
     "output_type": "execute_result"
    },
    {
     "data": {
      "image/png": "[encoded data removed]",
      "text/plain": [
       "<Figure size 864x576 with 1 Axes>"
      ]
     },
     "metadata": {},
     "output_type": "display_data"
    }
   ],
   "source": [
    "from matplotlib import pyplot\n",
    "a4_dims = (12, 8)\n",
    "fig, ax = pyplot.subplots(figsize=a4_dims)\n",
    "sns.barplot(x='grill_type', y='thumbs_up_score', hue='item_material',ax=ax,data=df3,palette=\"viridis\").set_title('Users prefer charcoal grill or propane grill based on different ingredients(figue 9)',fontsize=20)"
   ]
  },
  {
   "cell_type": "markdown",
   "metadata": {},
   "source": [
    "### Overall, charcoal grill and propane both have their advantages, the initial equipment costs gas to be a little more expensive, but later carbon is more expensive, so with the increase in the number of barbecue, the total cost of using propane is much less than charcoal, and it takes less initial time to use gas than to burn charcoal. Another point is that it is easier to use the propane grill, will not make a mess of the body smoke, and easier to clean up after the end. Users have higher satisfaction on using propane than charcoal.\n",
    "\n",
    "### So it seems that there are so many benefits of using propane.But from the taste point of view, different food, using different grill type grilled taste different. From the chart above, it is obvious that for hotdog, users prefer the taste of charcoal grill, while for ground beef patty, users prefer gas grill, and for vegetables, customers have no obvious preference for which grill tool to use(figue 9).\n",
    "\n",
    "### Additional, Whether the food is frozen or not has no effect on the choice of grill type(figue 8).\n",
    "\n",
    "### So for the business, I suggest more production of gas grill, but still need to produce part of the charcoal grill tools to some of the pursuit of taste and more time users, I believe that most people have both charcoal and gas grills at home."
   ]
  },
  {
   "cell_type": "markdown",
   "metadata": {},
   "source": [
    "# Question: (Bonus) Transform SheetC.json to SheetC.csv¶\n"
   ]
  },
  {
   "cell_type": "code",
   "execution_count": 211,
   "metadata": {},
   "outputs": [],
   "source": [
    "# Load SheetC.json to a variable raw_data \n",
    "\n",
    "with open('/Users/julie/Desktop/lodestone/SheetC.json') as json_file:\n",
    "    data = json.load(json_file)"
   ]
  },
  {
   "cell_type": "code",
   "execution_count": 212,
   "metadata": {},
   "outputs": [
    {
     "data": {
      "text/plain": [
       "list"
      ]
     },
     "execution_count": 212,
     "metadata": {},
     "output_type": "execute_result"
    }
   ],
   "source": [
    "# Now data is a list \n",
    "\n",
    "type(data)"
   ]
  },
  {
   "cell_type": "code",
   "execution_count": 213,
   "metadata": {},
   "outputs": [],
   "source": [
    "# Transform data to a dictionary\n",
    "\n",
    "dict = data[0]"
   ]
  },
  {
   "cell_type": "code",
   "execution_count": 214,
   "metadata": {},
   "outputs": [
    {
     "data": {
      "text/plain": [
       "dict"
      ]
     },
     "execution_count": 214,
     "metadata": {},
     "output_type": "execute_result"
    }
   ],
   "source": [
    "#Now dict is a dictionary \n",
    "\n",
    "type(dict)"
   ]
  },
  {
   "cell_type": "code",
   "execution_count": 215,
   "metadata": {},
   "outputs": [],
   "source": [
    "# We have to get the value from key test_result \n",
    "\n",
    "for i in dict:\n",
    "    new_dict = dict[i]"
   ]
  },
  {
   "cell_type": "code",
   "execution_count": 216,
   "metadata": {},
   "outputs": [
    {
     "data": {
      "text/plain": [
       "str"
      ]
     },
     "execution_count": 216,
     "metadata": {},
     "output_type": "execute_result"
    }
   ],
   "source": [
    "# Now new_dict is a string\n",
    "\n",
    "type(new_dict)"
   ]
  },
  {
   "cell_type": "code",
   "execution_count": 217,
   "metadata": {},
   "outputs": [],
   "source": [
    "# Transform new_dict to a dictionary\n",
    "\n",
    "data = eval(new_dict)"
   ]
  },
  {
   "cell_type": "code",
   "execution_count": 218,
   "metadata": {},
   "outputs": [
    {
     "data": {
      "text/plain": [
       "dict"
      ]
     },
     "execution_count": 218,
     "metadata": {},
     "output_type": "execute_result"
    }
   ],
   "source": [
    "# Now data is a dictionary\n",
    "\n",
    "type(data)"
   ]
  },
  {
   "cell_type": "code",
   "execution_count": 219,
   "metadata": {},
   "outputs": [],
   "source": [
    "# Get the value from meta_data and survey_result, put them in dataframes\n",
    "\n",
    "df_meta_data= pd.DataFrame()\n",
    "df_survey_result= pd.DataFrame()\n",
    "\n",
    "for k1 in data:\n",
    "    data1=data[k1]\n",
    "    df1 = pd.DataFrame.from_dict(data1['meta_data'], orient='index').T\n",
    "    df_meta_data = df_meta_data.append(df1)\n",
    "    \n",
    "for k2 in data:\n",
    "    data2=data[k2]\n",
    "    df2 = pd.DataFrame.from_dict(data2['survey_result'], orient='index').T\n",
    "    df_survey_result = df_survey_result.append(df2)"
   ]
  },
  {
   "cell_type": "code",
   "execution_count": 220,
   "metadata": {},
   "outputs": [],
   "source": [
    "# Get the value from sample_item_index, put it in dataframe\n",
    "\n",
    "df_sample_item_index=pd.DataFrame()\n",
    "\n",
    "for k3 in data:\n",
    "    data3=data[k3]\n",
    "    del data3['meta_data']\n",
    "    del data3['survey_result']\n",
    "    df3 = pd.DataFrame.from_dict(data3, orient='index').T\n",
    "    df_sample_item_index = df_sample_item_index.append(df3)"
   ]
  },
  {
   "cell_type": "code",
   "execution_count": 221,
   "metadata": {},
   "outputs": [
    {
     "data": {
      "text/html": [
       "<div>\n",
       "<style scoped>\n",
       "    .dataframe tbody tr th:only-of-type {\n",
       "        vertical-align: middle;\n",
       "    }\n",
       "\n",
       "    .dataframe tbody tr th {\n",
       "        vertical-align: top;\n",
       "    }\n",
       "\n",
       "    .dataframe thead th {\n",
       "        text-align: right;\n",
       "    }\n",
       "</style>\n",
       "<table border=\"1\" class=\"dataframe\">\n",
       "  <thead>\n",
       "    <tr style=\"text-align: right;\">\n",
       "      <th></th>\n",
       "      <th>sample_item_index</th>\n",
       "      <th>item_material</th>\n",
       "      <th>is_frozen</th>\n",
       "      <th>grill_type</th>\n",
       "      <th>thumbs_up_score</th>\n",
       "      <th>guess_grill_correct</th>\n",
       "    </tr>\n",
       "  </thead>\n",
       "  <tbody>\n",
       "    <tr>\n",
       "      <th>0</th>\n",
       "      <td>1</td>\n",
       "      <td>Hotdog</td>\n",
       "      <td>false</td>\n",
       "      <td>Propane</td>\n",
       "      <td>0.4</td>\n",
       "      <td>true</td>\n",
       "    </tr>\n",
       "    <tr>\n",
       "      <th>0</th>\n",
       "      <td>10</td>\n",
       "      <td>Hotdog</td>\n",
       "      <td>true</td>\n",
       "      <td>Propane</td>\n",
       "      <td>1.0</td>\n",
       "      <td>true</td>\n",
       "    </tr>\n",
       "    <tr>\n",
       "      <th>0</th>\n",
       "      <td>10</td>\n",
       "      <td>Hotdog</td>\n",
       "      <td>true</td>\n",
       "      <td>Propane</td>\n",
       "      <td>0.0</td>\n",
       "      <td>true</td>\n",
       "    </tr>\n",
       "    <tr>\n",
       "      <th>0</th>\n",
       "      <td>11</td>\n",
       "      <td>Hotdog</td>\n",
       "      <td>false</td>\n",
       "      <td>Propane</td>\n",
       "      <td>0.0</td>\n",
       "      <td>true</td>\n",
       "    </tr>\n",
       "    <tr>\n",
       "      <th>0</th>\n",
       "      <td>12</td>\n",
       "      <td>Hotdog</td>\n",
       "      <td>true</td>\n",
       "      <td>Propane</td>\n",
       "      <td>0.4</td>\n",
       "      <td>true</td>\n",
       "    </tr>\n",
       "    <tr>\n",
       "      <th>...</th>\n",
       "      <td>...</td>\n",
       "      <td>...</td>\n",
       "      <td>...</td>\n",
       "      <td>...</td>\n",
       "      <td>...</td>\n",
       "      <td>...</td>\n",
       "    </tr>\n",
       "    <tr>\n",
       "      <th>0</th>\n",
       "      <td>5</td>\n",
       "      <td>Hotdog</td>\n",
       "      <td>false</td>\n",
       "      <td>Propane</td>\n",
       "      <td>0.2</td>\n",
       "      <td>true</td>\n",
       "    </tr>\n",
       "    <tr>\n",
       "      <th>0</th>\n",
       "      <td>6</td>\n",
       "      <td>Hotdog</td>\n",
       "      <td>true</td>\n",
       "      <td>Propane</td>\n",
       "      <td>0.3</td>\n",
       "      <td>true</td>\n",
       "    </tr>\n",
       "    <tr>\n",
       "      <th>0</th>\n",
       "      <td>7</td>\n",
       "      <td>Hotdog</td>\n",
       "      <td>false</td>\n",
       "      <td>Propane</td>\n",
       "      <td>0.2</td>\n",
       "      <td>true</td>\n",
       "    </tr>\n",
       "    <tr>\n",
       "      <th>0</th>\n",
       "      <td>8</td>\n",
       "      <td>Hotdog</td>\n",
       "      <td>true</td>\n",
       "      <td>Propane</td>\n",
       "      <td>0.9</td>\n",
       "      <td>true</td>\n",
       "    </tr>\n",
       "    <tr>\n",
       "      <th>0</th>\n",
       "      <td>9</td>\n",
       "      <td>Hotdog</td>\n",
       "      <td>false</td>\n",
       "      <td>Propane</td>\n",
       "      <td>0.7</td>\n",
       "      <td>true</td>\n",
       "    </tr>\n",
       "  </tbody>\n",
       "</table>\n",
       "<p>720 rows × 6 columns</p>\n",
       "</div>"
      ],
      "text/plain": [
       "    sample_item_index item_material is_frozen grill_type thumbs_up_score  \\\n",
       "0                   1        Hotdog     false    Propane             0.4   \n",
       "0                  10        Hotdog      true    Propane             1.0   \n",
       "0                  10        Hotdog      true    Propane             0.0   \n",
       "0                  11        Hotdog     false    Propane             0.0   \n",
       "0                  12        Hotdog      true    Propane             0.4   \n",
       "..                ...           ...       ...        ...             ...   \n",
       "0                   5        Hotdog     false    Propane             0.2   \n",
       "0                   6        Hotdog      true    Propane             0.3   \n",
       "0                   7        Hotdog     false    Propane             0.2   \n",
       "0                   8        Hotdog      true    Propane             0.9   \n",
       "0                   9        Hotdog     false    Propane             0.7   \n",
       "\n",
       "   guess_grill_correct  \n",
       "0                 true  \n",
       "0                 true  \n",
       "0                 true  \n",
       "0                 true  \n",
       "0                 true  \n",
       "..                 ...  \n",
       "0                 true  \n",
       "0                 true  \n",
       "0                 true  \n",
       "0                 true  \n",
       "0                 true  \n",
       "\n",
       "[720 rows x 6 columns]"
      ]
     },
     "execution_count": 221,
     "metadata": {},
     "output_type": "execute_result"
    }
   ],
   "source": [
    "# Use concat to combine all three dataframes and change column order \n",
    "\n",
    "SheetC_temp=pd.concat([df_meta_data,df_survey_result,df_sample_item_index], axis=1)\n",
    "SheetC = SheetC_temp[['sample_item_index', 'item_material','is_frozen','grill_type','thumbs_up_score', 'guess_grill_correct']]\n",
    "SheetC"
   ]
  },
  {
   "cell_type": "code",
   "execution_count": 222,
   "metadata": {},
   "outputs": [],
   "source": [
    "# Export SheetC dataframe to SheetC.csv\n",
    "\n",
    "SheetC.to_csv(r'SheetC.csv', index = False)"
   ]
  },
  {
   "cell_type": "code",
   "execution_count": null,
   "metadata": {},
   "outputs": [],
   "source": []
  }
 ],
 "metadata": {
  "kernelspec": {
   "display_name": "Python 3",
   "language": "python",
   "name": "python3"
  },
  "language_info": {
   "codemirror_mode": {
    "name": "ipython",
    "version": 3
   },
   "file_extension": ".py",
   "mimetype": "text/x-python",
   "name": "python",
   "nbconvert_exporter": "python",
   "pygments_lexer": "ipython3",
   "version": "3.7.10"
  }
 },
 "nbformat": 4,
 "nbformat_minor": 4
}
